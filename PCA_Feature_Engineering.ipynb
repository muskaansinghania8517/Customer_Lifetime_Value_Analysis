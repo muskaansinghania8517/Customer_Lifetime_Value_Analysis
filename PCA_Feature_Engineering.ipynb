{
 "cells": [
  {
   "cell_type": "code",
   "execution_count": 1,
   "id": "9cd12e7a",
   "metadata": {},
   "outputs": [],
   "source": [
    "%matplotlib inline\n",
    "\n",
    "import pandas as pd\n",
    "import numpy as np\n",
    "import matplotlib.pyplot as plt\n",
    "\n",
    "from sklearn.preprocessing import scale \n",
    "from sklearn import model_selection\n",
    "from sklearn.decomposition import PCA\n",
    "from sklearn.linear_model import LinearRegression\n",
    "from sklearn.cross_decomposition import PLSRegression, PLSSVD\n",
    "from sklearn.metrics import mean_squared_error\n",
    "from sklearn.model_selection import RepeatedKFold\n",
    "\n",
    "import scipy as sp\n",
    "\n",
    "import statistics as st"
   ]
  },
  {
   "cell_type": "code",
   "execution_count": 43,
   "id": "d4c1f5a1",
   "metadata": {},
   "outputs": [],
   "source": [
    "data = pd.read_csv('WA_Fn-UseC_-Marketing-Customer-Value-Analysis.csv')\n",
    "data = data.drop(['Location Code', 'State', 'Response', 'Gender', 'Effective To Date', 'EmploymentStatus'], axis=1)\n",
    "\n",
    "# data.info()"
   ]
  },
  {
   "cell_type": "code",
   "execution_count": 44,
   "id": "cd2b6c02",
   "metadata": {},
   "outputs": [
    {
     "name": "stdout",
     "output_type": "stream",
     "text": [
      "<class 'pandas.core.frame.DataFrame'>\n",
      "RangeIndex: 9134 entries, 0 to 9133\n",
      "Data columns (total 18 columns):\n",
      " #   Column                         Non-Null Count  Dtype  \n",
      "---  ------                         --------------  -----  \n",
      " 0   Customer                       9134 non-null   object \n",
      " 1   Customer Lifetime Value        9134 non-null   float64\n",
      " 2   Coverage                       9134 non-null   object \n",
      " 3   Education                      9134 non-null   object \n",
      " 4   Income                         9134 non-null   int64  \n",
      " 5   Marital Status                 9134 non-null   object \n",
      " 6   Monthly Premium Auto           9134 non-null   int64  \n",
      " 7   Months Since Last Claim        9134 non-null   int64  \n",
      " 8   Months Since Policy Inception  9134 non-null   int64  \n",
      " 9   Number of Open Complaints      9134 non-null   int64  \n",
      " 10  Number of Policies             9134 non-null   int64  \n",
      " 11  Policy Type                    9134 non-null   object \n",
      " 12  Policy                         9134 non-null   object \n",
      " 13  Renew Offer Type               9134 non-null   object \n",
      " 14  Sales Channel                  9134 non-null   object \n",
      " 15  Total Claim Amount             9134 non-null   float64\n",
      " 16  Vehicle Class                  9134 non-null   object \n",
      " 17  Vehicle Size                   9134 non-null   object \n",
      "dtypes: float64(2), int64(6), object(10)\n",
      "memory usage: 1.3+ MB\n"
     ]
    }
   ],
   "source": [
    "data.info()"
   ]
  },
  {
   "cell_type": "code",
   "execution_count": 45,
   "id": "4ea45bfc",
   "metadata": {},
   "outputs": [
    {
     "data": {
      "text/html": [
       "<div>\n",
       "<style scoped>\n",
       "    .dataframe tbody tr th:only-of-type {\n",
       "        vertical-align: middle;\n",
       "    }\n",
       "\n",
       "    .dataframe tbody tr th {\n",
       "        vertical-align: top;\n",
       "    }\n",
       "\n",
       "    .dataframe thead th {\n",
       "        text-align: right;\n",
       "    }\n",
       "</style>\n",
       "<table border=\"1\" class=\"dataframe\">\n",
       "  <thead>\n",
       "    <tr style=\"text-align: right;\">\n",
       "      <th></th>\n",
       "      <th>Customer</th>\n",
       "      <th>Coverage</th>\n",
       "      <th>Education</th>\n",
       "      <th>Marital Status</th>\n",
       "      <th>Policy Type</th>\n",
       "      <th>Policy</th>\n",
       "      <th>Renew Offer Type</th>\n",
       "      <th>Sales Channel</th>\n",
       "      <th>Vehicle Class</th>\n",
       "      <th>Vehicle Size</th>\n",
       "    </tr>\n",
       "  </thead>\n",
       "  <tbody>\n",
       "    <tr>\n",
       "      <th>0</th>\n",
       "      <td>600</td>\n",
       "      <td>0</td>\n",
       "      <td>0</td>\n",
       "      <td>1</td>\n",
       "      <td>0</td>\n",
       "      <td>2</td>\n",
       "      <td>0</td>\n",
       "      <td>0</td>\n",
       "      <td>5</td>\n",
       "      <td>1</td>\n",
       "    </tr>\n",
       "    <tr>\n",
       "      <th>1</th>\n",
       "      <td>5946</td>\n",
       "      <td>1</td>\n",
       "      <td>0</td>\n",
       "      <td>2</td>\n",
       "      <td>1</td>\n",
       "      <td>5</td>\n",
       "      <td>2</td>\n",
       "      <td>0</td>\n",
       "      <td>0</td>\n",
       "      <td>1</td>\n",
       "    </tr>\n",
       "    <tr>\n",
       "      <th>2</th>\n",
       "      <td>96</td>\n",
       "      <td>2</td>\n",
       "      <td>0</td>\n",
       "      <td>1</td>\n",
       "      <td>1</td>\n",
       "      <td>5</td>\n",
       "      <td>0</td>\n",
       "      <td>0</td>\n",
       "      <td>5</td>\n",
       "      <td>1</td>\n",
       "    </tr>\n",
       "    <tr>\n",
       "      <th>3</th>\n",
       "      <td>8016</td>\n",
       "      <td>0</td>\n",
       "      <td>0</td>\n",
       "      <td>1</td>\n",
       "      <td>0</td>\n",
       "      <td>1</td>\n",
       "      <td>0</td>\n",
       "      <td>2</td>\n",
       "      <td>3</td>\n",
       "      <td>1</td>\n",
       "    </tr>\n",
       "    <tr>\n",
       "      <th>4</th>\n",
       "      <td>2488</td>\n",
       "      <td>0</td>\n",
       "      <td>0</td>\n",
       "      <td>2</td>\n",
       "      <td>1</td>\n",
       "      <td>3</td>\n",
       "      <td>0</td>\n",
       "      <td>0</td>\n",
       "      <td>0</td>\n",
       "      <td>1</td>\n",
       "    </tr>\n",
       "    <tr>\n",
       "      <th>...</th>\n",
       "      <td>...</td>\n",
       "      <td>...</td>\n",
       "      <td>...</td>\n",
       "      <td>...</td>\n",
       "      <td>...</td>\n",
       "      <td>...</td>\n",
       "      <td>...</td>\n",
       "      <td>...</td>\n",
       "      <td>...</td>\n",
       "      <td>...</td>\n",
       "    </tr>\n",
       "    <tr>\n",
       "      <th>9129</th>\n",
       "      <td>3857</td>\n",
       "      <td>0</td>\n",
       "      <td>0</td>\n",
       "      <td>1</td>\n",
       "      <td>1</td>\n",
       "      <td>3</td>\n",
       "      <td>1</td>\n",
       "      <td>3</td>\n",
       "      <td>0</td>\n",
       "      <td>1</td>\n",
       "    </tr>\n",
       "    <tr>\n",
       "      <th>9130</th>\n",
       "      <td>5390</td>\n",
       "      <td>1</td>\n",
       "      <td>1</td>\n",
       "      <td>0</td>\n",
       "      <td>0</td>\n",
       "      <td>2</td>\n",
       "      <td>0</td>\n",
       "      <td>1</td>\n",
       "      <td>0</td>\n",
       "      <td>1</td>\n",
       "    </tr>\n",
       "    <tr>\n",
       "      <th>9131</th>\n",
       "      <td>6688</td>\n",
       "      <td>1</td>\n",
       "      <td>0</td>\n",
       "      <td>2</td>\n",
       "      <td>0</td>\n",
       "      <td>1</td>\n",
       "      <td>0</td>\n",
       "      <td>1</td>\n",
       "      <td>0</td>\n",
       "      <td>1</td>\n",
       "    </tr>\n",
       "    <tr>\n",
       "      <th>9132</th>\n",
       "      <td>7214</td>\n",
       "      <td>1</td>\n",
       "      <td>1</td>\n",
       "      <td>1</td>\n",
       "      <td>1</td>\n",
       "      <td>4</td>\n",
       "      <td>2</td>\n",
       "      <td>1</td>\n",
       "      <td>0</td>\n",
       "      <td>0</td>\n",
       "    </tr>\n",
       "    <tr>\n",
       "      <th>9133</th>\n",
       "      <td>8434</td>\n",
       "      <td>1</td>\n",
       "      <td>1</td>\n",
       "      <td>2</td>\n",
       "      <td>0</td>\n",
       "      <td>2</td>\n",
       "      <td>3</td>\n",
       "      <td>2</td>\n",
       "      <td>5</td>\n",
       "      <td>1</td>\n",
       "    </tr>\n",
       "  </tbody>\n",
       "</table>\n",
       "<p>9134 rows × 10 columns</p>\n",
       "</div>"
      ],
      "text/plain": [
       "      Customer  Coverage  Education  Marital Status  Policy Type  Policy  \\\n",
       "0          600         0          0               1            0       2   \n",
       "1         5946         1          0               2            1       5   \n",
       "2           96         2          0               1            1       5   \n",
       "3         8016         0          0               1            0       1   \n",
       "4         2488         0          0               2            1       3   \n",
       "...        ...       ...        ...             ...          ...     ...   \n",
       "9129      3857         0          0               1            1       3   \n",
       "9130      5390         1          1               0            0       2   \n",
       "9131      6688         1          0               2            0       1   \n",
       "9132      7214         1          1               1            1       4   \n",
       "9133      8434         1          1               2            0       2   \n",
       "\n",
       "      Renew Offer Type  Sales Channel  Vehicle Class  Vehicle Size  \n",
       "0                    0              0              5             1  \n",
       "1                    2              0              0             1  \n",
       "2                    0              0              5             1  \n",
       "3                    0              2              3             1  \n",
       "4                    0              0              0             1  \n",
       "...                ...            ...            ...           ...  \n",
       "9129                 1              3              0             1  \n",
       "9130                 0              1              0             1  \n",
       "9131                 0              1              0             1  \n",
       "9132                 2              1              0             0  \n",
       "9133                 3              2              5             1  \n",
       "\n",
       "[9134 rows x 10 columns]"
      ]
     },
     "execution_count": 45,
     "metadata": {},
     "output_type": "execute_result"
    }
   ],
   "source": [
    "# data = pd.read_csv('WA_Fn-UseC_-Marketing-Customer-Value-Analysis.csv')\n",
    "categorical_df = data.select_dtypes(include='object')\n",
    "\n",
    "categorical_df.columns\n",
    "\n",
    "cat_df = categorical_df\n",
    "\n",
    "from sklearn.preprocessing import LabelEncoder\n",
    "lb = LabelEncoder()\n",
    "for col in cat_df.columns:\n",
    "    cat_df[col] = lb.fit_transform(cat_df[col])\n",
    "cat_df"
   ]
  },
  {
   "cell_type": "code",
   "execution_count": 52,
   "id": "06679a6f",
   "metadata": {},
   "outputs": [
    {
     "name": "stdout",
     "output_type": "stream",
     "text": [
      "[20.89 33.87 45.29 56.66 67.94 78.69 89.34 98.66 99.99]\n"
     ]
    },
    {
     "data": {
      "image/png": "[encoded data removed]",
      "text/plain": [
       "<Figure size 432x288 with 1 Axes>"
      ]
     },
     "metadata": {
      "needs_background": "light"
     },
     "output_type": "display_data"
    }
   ],
   "source": [
    "\n",
    "x = cat_df\n",
    "x = x.drop(['Customer'], axis = 1)\n",
    "a = x.columns\n",
    "y = data[['Customer Lifetime Value']]\n",
    "pca = PCA()\n",
    "x_reduced = pca.fit_transform(scale(x))\n",
    "cv = RepeatedKFold(n_splits = 11, n_repeats = 4, random_state = 1)\n",
    "regr = LinearRegression()\n",
    "mse = []\n",
    "list1 = []\n",
    "list\n",
    "#Calculate MSE using Cross-Validation, adding one component at a time\n",
    "for i in np.arange(1,10):\n",
    "    list1.append(a[i-1])\n",
    "    score = -1*model_selection.cross_val_score(regr, x_reduced[:,:i], y, cv=cv, scoring = 'neg_mean_squared_error').mean()\n",
    "    mse.append(score)\n",
    "\n",
    "plt.plot(mse)\n",
    "plt.xlabel('Number of Principal Components')\n",
    "plt.ylabel('MSE')\n",
    "plt.title('Customer Lifetime Value')\n",
    "b =np.cumsum(np.round(pca.explained_variance_ratio_, decimals=4)*100)\n",
    " \n",
    "print(b)\n",
    "\n",
    "plt.savefig('elbow_plot_2.png')"
   ]
  },
  {
   "cell_type": "code",
   "execution_count": 47,
   "id": "8dd24bee",
   "metadata": {},
   "outputs": [
    {
     "name": "stdout",
     "output_type": "stream",
     "text": [
      "<class 'pandas.core.frame.DataFrame'>\n",
      "RangeIndex: 9134 entries, 0 to 9133\n",
      "Data columns (total 10 columns):\n",
      " #   Column            Non-Null Count  Dtype\n",
      "---  ------            --------------  -----\n",
      " 0   Customer          9134 non-null   int64\n",
      " 1   Coverage          9134 non-null   int64\n",
      " 2   Education         9134 non-null   int64\n",
      " 3   Marital Status    9134 non-null   int64\n",
      " 4   Policy Type       9134 non-null   int64\n",
      " 5   Policy            9134 non-null   int64\n",
      " 6   Renew Offer Type  9134 non-null   int64\n",
      " 7   Sales Channel     9134 non-null   int64\n",
      " 8   Vehicle Class     9134 non-null   int64\n",
      " 9   Vehicle Size      9134 non-null   int64\n",
      "dtypes: int64(10)\n",
      "memory usage: 713.7 KB\n"
     ]
    }
   ],
   "source": [
    "cat_df.info()"
   ]
  },
  {
   "cell_type": "code",
   "execution_count": 50,
   "id": "31e24f56",
   "metadata": {},
   "outputs": [
    {
     "name": "stdout",
     "output_type": "stream",
     "text": [
      "[20.89 33.87 45.29 56.66 67.94 78.69 89.34 98.66 99.99]\n"
     ]
    }
   ],
   "source": [
    "print(b)\n",
    "c = []\n",
    "d1 = []\n",
    "for i in np.arange(1,9):\n",
    "    c.append(b[i]-b[i-1])\n",
    "\n",
    "d1.append(b[0])\n",
    "for i in np.arange(0,8\n",
    "                  ):\n",
    "    d1.append(c[i])\n"
   ]
  },
  {
   "cell_type": "code",
   "execution_count": 51,
   "id": "4e0a483c",
   "metadata": {
    "scrolled": true
   },
   "outputs": [
    {
     "name": "stdout",
     "output_type": "stream",
     "text": [
      "This table will show the variable importance by predictor\n",
      "Coverage - 20.89\n",
      "Education - 12.980000000000004\n",
      "Marital Status - 11.420000000000002\n",
      "Policy Type - 11.369999999999997\n",
      "Policy - 11.279999999999994\n",
      "Renew Offer Type - 10.75\n",
      "Sales Channel - 10.650000000000006\n",
      "Vehicle Class - 9.319999999999993\n",
      "Vehicle Size - 1.3299999999999983\n"
     ]
    }
   ],
   "source": [
    "print(\"This table will show the variable importance by predictor\")\n",
    "for l, d in zip(list1,d1):\n",
    "    print(\"{} - {}\".format(l,(d)))"
   ]
  },
  {
   "cell_type": "code",
   "execution_count": 55,
   "id": "c433f46c",
   "metadata": {},
   "outputs": [],
   "source": [
    "df = pd.DataFrame(list(zip(list1,d1)),\n",
    "              columns=[\"Predictors\", \"Importance\"])"
   ]
  },
  {
   "cell_type": "code",
   "execution_count": 56,
   "id": "441d8bf6",
   "metadata": {},
   "outputs": [
    {
     "data": {
      "text/html": [
       "<div>\n",
       "<style scoped>\n",
       "    .dataframe tbody tr th:only-of-type {\n",
       "        vertical-align: middle;\n",
       "    }\n",
       "\n",
       "    .dataframe tbody tr th {\n",
       "        vertical-align: top;\n",
       "    }\n",
       "\n",
       "    .dataframe thead th {\n",
       "        text-align: right;\n",
       "    }\n",
       "</style>\n",
       "<table border=\"1\" class=\"dataframe\">\n",
       "  <thead>\n",
       "    <tr style=\"text-align: right;\">\n",
       "      <th></th>\n",
       "      <th>Predictors</th>\n",
       "      <th>Importance</th>\n",
       "    </tr>\n",
       "  </thead>\n",
       "  <tbody>\n",
       "    <tr>\n",
       "      <th>0</th>\n",
       "      <td>Coverage</td>\n",
       "      <td>20.89</td>\n",
       "    </tr>\n",
       "    <tr>\n",
       "      <th>1</th>\n",
       "      <td>Education</td>\n",
       "      <td>12.98</td>\n",
       "    </tr>\n",
       "    <tr>\n",
       "      <th>2</th>\n",
       "      <td>Marital Status</td>\n",
       "      <td>11.42</td>\n",
       "    </tr>\n",
       "    <tr>\n",
       "      <th>3</th>\n",
       "      <td>Policy Type</td>\n",
       "      <td>11.37</td>\n",
       "    </tr>\n",
       "    <tr>\n",
       "      <th>4</th>\n",
       "      <td>Policy</td>\n",
       "      <td>11.28</td>\n",
       "    </tr>\n",
       "    <tr>\n",
       "      <th>5</th>\n",
       "      <td>Renew Offer Type</td>\n",
       "      <td>10.75</td>\n",
       "    </tr>\n",
       "    <tr>\n",
       "      <th>6</th>\n",
       "      <td>Sales Channel</td>\n",
       "      <td>10.65</td>\n",
       "    </tr>\n",
       "    <tr>\n",
       "      <th>7</th>\n",
       "      <td>Vehicle Class</td>\n",
       "      <td>9.32</td>\n",
       "    </tr>\n",
       "    <tr>\n",
       "      <th>8</th>\n",
       "      <td>Vehicle Size</td>\n",
       "      <td>1.33</td>\n",
       "    </tr>\n",
       "  </tbody>\n",
       "</table>\n",
       "</div>"
      ],
      "text/plain": [
       "         Predictors  Importance\n",
       "0          Coverage       20.89\n",
       "1         Education       12.98\n",
       "2    Marital Status       11.42\n",
       "3       Policy Type       11.37\n",
       "4            Policy       11.28\n",
       "5  Renew Offer Type       10.75\n",
       "6     Sales Channel       10.65\n",
       "7     Vehicle Class        9.32\n",
       "8      Vehicle Size        1.33"
      ]
     },
     "execution_count": 56,
     "metadata": {},
     "output_type": "execute_result"
    }
   ],
   "source": [
    "df"
   ]
  },
  {
   "cell_type": "code",
   "execution_count": 57,
   "id": "869e65e8",
   "metadata": {},
   "outputs": [],
   "source": [
    "df.to_csv(\"Features_S3.csv\")"
   ]
  },
  {
   "cell_type": "code",
   "execution_count": 35,
   "id": "a0648d3a",
   "metadata": {
    "scrolled": false
   },
   "outputs": [
    {
     "name": "stdout",
     "output_type": "stream",
     "text": [
      "+----------+-----------+------------------+-------------------+-------------------+-------------------+-------------------+-------------------+-------------------+\n",
      "|          |           |                  |                   |                   |                   |                   | Predictors        | Importance        |\n",
      "+==========+===========+==================+===================+===================+===================+===================+===================+===================+\n",
      "| Coverage | Education | EmploymentStatus | Marital Status    | Policy Type       | Policy            | Renew Offer Type  | Sales Channel     | Vehicle Class     |\n",
      "+----------+-----------+------------------+-------------------+-------------------+-------------------+-------------------+-------------------+-------------------+\n",
      "| 17.1     | 12.39     | 10.25            | 9.369999999999997 | 9.329999999999998 | 9.049999999999997 | 8.989999999999995 | 8.700000000000003 | 7.659999999999997 |\n",
      "+----------+-----------+------------------+-------------------+-------------------+-------------------+-------------------+-------------------+-------------------+\n"
     ]
    },
    {
     "name": "stderr",
     "output_type": "stream",
     "text": [
      "/var/folders/d7/6rnrvvkn0gx0fk0d668z6ydr0000gn/T/ipykernel_10425/869601584.py:11: VisibleDeprecationWarning: Creating an ndarray from ragged nested sequences (which is a list-or-tuple of lists-or-tuples-or ndarrays with different lengths or shapes) is deprecated. If you meant to do this, you must specify 'dtype=object' when creating the ndarray.\n",
      "  merged_array = np.array([list1, d1])\n"
     ]
    }
   ],
   "source": [
    "from tabulate import tabulate\n",
    " \n",
    "# assign data\n",
    "mydata = [\n",
    "    ['a', 'b', 'c'],\n",
    "      [12, 34, 56],\n",
    "      ['Geeks', 'for', 'geeks!']\n",
    "]\n",
    " \n",
    "col_headers = [\"Predictors\", \"Importance\"]\n",
    "merged_array = np.array([list1, d1]).T\n",
    "table = tabulate(merged_array , col_headers,tablefmt=\"grid\")\n",
    "print(table)"
   ]
  },
  {
   "cell_type": "code",
   "execution_count": 25,
   "id": "8761fcf0",
   "metadata": {},
   "outputs": [
    {
     "name": "stdout",
     "output_type": "stream",
     "text": [
      "<function tabulate at 0x7fc3c5598940>\n"
     ]
    }
   ],
   "source": [
    "print(tabulate)"
   ]
  }
 ],
 "metadata": {
  "kernelspec": {
   "display_name": "Python 3 (ipykernel)",
   "language": "python",
   "name": "python3"
  },
  "language_info": {
   "codemirror_mode": {
    "name": "ipython",
    "version": 3
   },
   "file_extension": ".py",
   "mimetype": "text/x-python",
   "name": "python",
   "nbconvert_exporter": "python",
   "pygments_lexer": "ipython3",
   "version": "3.9.12"
  }
 },
 "nbformat": 4,
 "nbformat_minor": 5
}
